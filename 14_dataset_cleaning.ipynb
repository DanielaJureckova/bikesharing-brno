{
 "cells": [
  {
   "cell_type": "code",
   "execution_count": 184,
   "metadata": {},
   "outputs": [
    {
     "name": "stdout",
     "output_type": "stream",
     "text": [
      "<class 'pandas.core.frame.DataFrame'>\n",
      "RangeIndex: 200721 entries, 0 to 200720\n",
      "Data columns (total 23 columns):\n",
      " #   Column                Non-Null Count   Dtype  \n",
      "---  ------                --------------   -----  \n",
      " 0   start_time            200721 non-null  object \n",
      " 1   end_time              200721 non-null  object \n",
      " 2   user_id               200721 non-null  int64  \n",
      " 3   start_latitude        200721 non-null  float64\n",
      " 4   start_longitude       200721 non-null  float64\n",
      " 5   end_latitude          200721 non-null  float64\n",
      " 6   end_longitude         200721 non-null  float64\n",
      " 7   company               200721 non-null  object \n",
      " 8   duration_min          200721 non-null  float64\n",
      " 9   time-key              200721 non-null  object \n",
      " 10  time                  200721 non-null  object \n",
      " 11  temperature_2m (°C)   200721 non-null  float64\n",
      " 12  rain (mm)             200721 non-null  float64\n",
      " 13  snowfall (cm)         200721 non-null  float64\n",
      " 14  windspeed_10m (km/h)  200721 non-null  float64\n",
      " 15  windgusts_10m (km/h)  200721 non-null  float64\n",
      " 16  is_day ()             200721 non-null  int64  \n",
      " 17  start_location        200686 non-null  float64\n",
      " 18  end_location          200721 non-null  int64  \n",
      " 19  start_address         200686 non-null  object \n",
      " 20  end_address           200721 non-null  object \n",
      " 21  start_elevation       200686 non-null  float64\n",
      " 22  end_elevation         200721 non-null  int64  \n",
      "dtypes: float64(12), int64(4), object(7)\n",
      "memory usage: 35.2+ MB\n"
     ]
    }
   ],
   "source": [
    "import pandas as pd\n",
    "dataset = pd.read_csv(\"data_filtered_weather_elevation.csv\")\n",
    "dataset.info()"
   ]
  },
  {
   "cell_type": "code",
   "execution_count": 185,
   "metadata": {},
   "outputs": [],
   "source": [
    "missing_values_adr = dataset[(dataset['start_address'].isna())|(dataset['end_address'].isna())]\n",
    "missing_values_adr.to_csv(\"missing_address.csv\")"
   ]
  },
  {
   "cell_type": "code",
   "execution_count": 186,
   "metadata": {},
   "outputs": [
    {
     "name": "stdout",
     "output_type": "stream",
     "text": [
      "        start_latitude  start_longitude  start_location\n",
      "62872        49.209796        16.608238             NaN\n",
      "63227        49.180849        16.604650             NaN\n",
      "75951        49.209147        16.599858             NaN\n",
      "77790        49.213307        16.619464             NaN\n",
      "81589        49.209107        16.591822             NaN\n",
      "84037        49.197796        16.594439             NaN\n",
      "86701        49.197747        16.608889             NaN\n",
      "92745        49.193156        16.565627             NaN\n",
      "98222        49.187084        16.613401             NaN\n",
      "102899       49.209716        16.635812             NaN\n",
      "110932       49.214404        16.570344             NaN\n",
      "127110       49.204151        16.610508             NaN\n",
      "127328       49.209911        16.592478             NaN\n",
      "129683       49.211111        16.623243             NaN\n",
      "159433       49.185987        16.621250             NaN\n",
      "164016       49.186751        16.602392             NaN\n",
      "164429       49.212671        16.624424             NaN\n",
      "164750       49.197813        16.615538             NaN\n",
      "165426       49.202978        16.599687             NaN\n",
      "166595       49.246596        16.504964             NaN\n",
      "173077       49.180851        16.604774             NaN\n",
      "174419       49.187858        16.593367             NaN\n",
      "187509       49.187600        16.616514             NaN\n",
      "190554       49.177369        16.568462             NaN\n",
      "192396       49.185991        16.617342             NaN\n",
      "193038       49.205316        16.629458             NaN\n",
      "195199       49.193204        16.567121             NaN\n",
      "195386       49.204258        16.610311             NaN\n",
      "196260       49.201067        16.601381             NaN\n",
      "198991       49.176156        16.605438             NaN\n",
      "199111       49.177107        16.597314             NaN\n",
      "199770       49.193351        16.607449             NaN\n",
      "200254       49.200627        16.614484             NaN\n",
      "200446       49.192267        16.617672             NaN\n",
      "200475       49.202738        16.610574             NaN\n"
     ]
    }
   ],
   "source": [
    "cond = dataset['start_address'].isna()\n",
    "\n"
   ]
  },
  {
   "cell_type": "code",
   "execution_count": 187,
   "metadata": {},
   "outputs": [
    {
     "name": "stdout",
     "output_type": "stream",
     "text": [
      "        start_latitude  start_longitude  start_location\n",
      "62872        49.209796        16.608238           921.0\n",
      "63227        49.180849        16.604650           194.0\n",
      "75951        49.209147        16.599858           584.0\n",
      "77790        49.213307        16.619464           757.0\n",
      "81589        49.209107        16.591822           587.0\n",
      "84037        49.197796        16.594439          1025.0\n",
      "86701        49.197747        16.608889            35.0\n",
      "92745        49.193156        16.565627           728.0\n",
      "98222        49.187084        16.613401           226.0\n",
      "102899       49.209716        16.635812           624.0\n",
      "110932       49.214404        16.570344           459.0\n",
      "127110       49.204151        16.610508           694.0\n",
      "127328       49.209911        16.592478           933.0\n",
      "129683       49.211111        16.623243           126.0\n",
      "159433       49.185987        16.621250          1003.0\n",
      "164016       49.186751        16.602392            54.0\n",
      "164429       49.212671        16.624424           656.0\n",
      "164750       49.197813        16.615538           648.0\n",
      "165426       49.202978        16.599687           174.0\n",
      "166595       49.246596        16.504964           378.0\n",
      "173077       49.180851        16.604774           236.0\n",
      "174419       49.187858        16.593367           980.0\n",
      "187509       49.187600        16.616514            48.0\n",
      "190554       49.177369        16.568462           405.0\n",
      "192396       49.185991        16.617342           131.0\n",
      "193038       49.205316        16.629458           448.0\n",
      "195199       49.193204        16.567121           557.0\n",
      "195386       49.204258        16.610311             0.0\n",
      "196260       49.201067        16.601381           387.0\n",
      "198991       49.176156        16.605438           660.0\n",
      "199111       49.177107        16.597314           445.0\n",
      "199770       49.193351        16.607449           316.0\n",
      "200254       49.200627        16.614484           407.0\n",
      "200446       49.192267        16.617672          1381.0\n",
      "200475       49.202738        16.610574            20.0\n"
     ]
    }
   ],
   "source": [
    "from geopy.distance import geodesic\n",
    "\n",
    "stations_all = pd.read_csv(\"10e_stations_ad_el.csv\")\n",
    "stations_all['station_index'] = stations_all.index\n",
    "stations = stations_all.to_dict(orient='records')\n",
    "\n",
    "def find_start_location(row):\n",
    "    min_distance = float('inf')\n",
    "    start_location = None\n",
    "    for station in stations:\n",
    "        distance = geodesic((row['start_latitude'], row['start_longitude']),\n",
    "                           (station['latitude'], station['longitude'])).kilometers\n",
    "        if distance < min_distance:\n",
    "            min_distance = distance\n",
    "            if min_distance < 0.060:\n",
    "                start_location = station['station_index']\n",
    "            else:\n",
    "                start_location = \"N/A\"\n",
    "                \n",
    "    return start_location\n",
    "\n",
    "def find_end_location(row):\n",
    "    min_distance = float('inf')\n",
    "    end_location = None\n",
    "    for station in stations:\n",
    "        distance = geodesic((row['end_latitude'], row['end_longitude']),\n",
    "                           (station['latitude'], station['longitude'])).kilometers\n",
    "        if distance < min_distance:\n",
    "            min_distance = distance\n",
    "            if min_distance < 0.10:\n",
    "                end_location = station['station_index']\n",
    "            else:\n",
    "                end_location = \"N/A\"\n",
    "                \n",
    "    return end_location\n",
    "\n",
    "\n",
    "# Přiřazení nejbližšího indexu lokality k GPS souřadnicím\n",
    "dataset.loc[cond,[\"start_location\"]] = dataset.loc[cond,[\"start_latitude\",\"start_longitude\",\"start_location\"]].apply(find_start_location, axis=1)\n",
    "\n",
    "print((dataset.loc[cond, [\"start_latitude\",\"start_longitude\",\"start_location\"]]))"
   ]
  },
  {
   "cell_type": "code",
   "execution_count": 188,
   "metadata": {},
   "outputs": [
    {
     "name": "stdout",
     "output_type": "stream",
     "text": [
      "<class 'pandas.core.frame.DataFrame'>\n",
      "RangeIndex: 200721 entries, 0 to 200720\n",
      "Data columns (total 23 columns):\n",
      " #   Column                Non-Null Count   Dtype  \n",
      "---  ------                --------------   -----  \n",
      " 0   start_time            200721 non-null  object \n",
      " 1   end_time              200721 non-null  object \n",
      " 2   user_id               200721 non-null  int64  \n",
      " 3   start_latitude        200721 non-null  float64\n",
      " 4   start_longitude       200721 non-null  float64\n",
      " 5   end_latitude          200721 non-null  float64\n",
      " 6   end_longitude         200721 non-null  float64\n",
      " 7   company               200721 non-null  object \n",
      " 8   duration_min          200721 non-null  float64\n",
      " 9   time-key              200721 non-null  object \n",
      " 10  time                  200721 non-null  object \n",
      " 11  temperature_2m (°C)   200721 non-null  float64\n",
      " 12  rain (mm)             200721 non-null  float64\n",
      " 13  snowfall (cm)         200721 non-null  float64\n",
      " 14  windspeed_10m (km/h)  200721 non-null  float64\n",
      " 15  windgusts_10m (km/h)  200721 non-null  float64\n",
      " 16  is_day ()             200721 non-null  int64  \n",
      " 17  start_location        200721 non-null  float64\n",
      " 18  end_location          200721 non-null  int64  \n",
      " 19  start_address         200686 non-null  object \n",
      " 20  end_address           200721 non-null  object \n",
      " 21  start_elevation       200686 non-null  float64\n",
      " 22  end_elevation         200721 non-null  int64  \n",
      "dtypes: float64(12), int64(4), object(7)\n",
      "memory usage: 35.2+ MB\n"
     ]
    }
   ],
   "source": [
    "dataset.info()"
   ]
  },
  {
   "cell_type": "code",
   "execution_count": 189,
   "metadata": {},
   "outputs": [
    {
     "name": "stdout",
     "output_type": "stream",
     "text": [
      "<class 'pandas.core.frame.DataFrame'>\n",
      "RangeIndex: 1838 entries, 0 to 1837\n",
      "Data columns (total 6 columns):\n",
      " #   Column         Non-Null Count  Dtype  \n",
      "---  ------         --------------  -----  \n",
      " 0   latitude       1838 non-null   float64\n",
      " 1   longitude      1838 non-null   float64\n",
      " 2   count          1838 non-null   int64  \n",
      " 3   address        1838 non-null   object \n",
      " 4   elevation      1838 non-null   int64  \n",
      " 5   station_index  1838 non-null   int64  \n",
      "dtypes: float64(2), int64(3), object(1)\n",
      "memory usage: 86.3+ KB\n",
      "None\n"
     ]
    }
   ],
   "source": [
    "print(stations_all.info())"
   ]
  },
  {
   "cell_type": "code",
   "execution_count": 190,
   "metadata": {},
   "outputs": [
    {
     "name": "stdout",
     "output_type": "stream",
     "text": [
      "Index(['start_time', 'end_time', 'user_id', 'start_latitude',\n",
      "       'start_longitude', 'end_latitude', 'end_longitude', 'company',\n",
      "       'duration_min', 'time-key', 'time', 'temperature_2m (°C)', 'rain (mm)',\n",
      "       'snowfall (cm)', 'windspeed_10m (km/h)', 'windgusts_10m (km/h)',\n",
      "       'is_day ()', 'start_location', 'end_location', 'end_address',\n",
      "       'end_elevation', 'start_address', 'start_elevation'],\n",
      "      dtype='object')\n"
     ]
    }
   ],
   "source": [
    "dataset.drop(columns=[\"start_address\", \"start_elevation\"], axis =1, inplace = True)\n",
    "\n",
    "\n",
    "dataset = dataset.merge(stations_all[[\"station_index\", \"address\", \"elevation\"]], left_on = \"start_location\", right_on = \"station_index\", right_index= False, how = \"left\")\n",
    "dataset.rename(columns = {\"elevation\":\"start_elevation\",\"address\": \"start_address\"}, inplace = True )\n",
    "\n",
    "dataset.drop(columns=\"station_index\", axis =1, inplace = True)\n",
    "print(dataset.columns)\n"
   ]
  },
  {
   "cell_type": "code",
   "execution_count": 191,
   "metadata": {},
   "outputs": [],
   "source": [
    "dataset_final = dataset[['start_time', 'end_time', 'user_id', 'start_latitude',\n",
    "       'start_longitude', 'end_latitude', 'end_longitude', 'company',\n",
    "       'duration_min', 'time-key', 'time', 'temperature_2m (°C)', 'rain (mm)',\n",
    "       'snowfall (cm)', 'windspeed_10m (km/h)', 'windgusts_10m (km/h)',\n",
    "       'is_day ()', 'start_location', 'end_location', 'start_address',\n",
    "       'end_address', 'start_elevation', 'end_elevation']]\n",
    "\n"
   ]
  },
  {
   "cell_type": "markdown",
   "metadata": {},
   "source": [
    "### čištění odlehlých (gps) hodnot"
   ]
  },
  {
   "cell_type": "code",
   "execution_count": 192,
   "metadata": {},
   "outputs": [
    {
     "name": "stdout",
     "output_type": "stream",
     "text": [
      "                 start_time             end_time    user_id  start_latitude  \\\n",
      "0       2022-05-01 00:10:00  2022-05-01 00:16:00  321514795       49.207780   \n",
      "1       2022-05-09 14:45:00  2022-05-09 14:51:00  321514795       49.207780   \n",
      "2       2022-05-26 14:24:00  2022-05-26 14:30:00  321514795       49.207780   \n",
      "3       2022-07-24 00:57:00  2022-07-24 01:05:00    8256880       49.207780   \n",
      "4       2022-09-03 20:11:00  2022-09-03 20:28:00    8146768       49.207780   \n",
      "...                     ...                  ...        ...             ...   \n",
      "200716  2023-05-25 01:34:00  2023-05-25 01:46:00     375749       49.197051   \n",
      "200717  2023-05-29 03:08:00  2023-05-29 03:34:00     390769       49.197445   \n",
      "200718  2023-05-29 03:08:00  2023-05-29 03:33:00     470851       49.197445   \n",
      "200719  2023-09-04 03:57:00  2023-09-04 04:02:00     172510       49.199359   \n",
      "200720  2023-09-06 01:03:00  2023-09-06 01:14:00     166389       49.222809   \n",
      "\n",
      "        start_longitude  end_latitude  end_longitude   company  duration_min  \\\n",
      "0             16.635706     49.205131      16.624193  nextbike           6.0   \n",
      "1             16.635706     49.205131      16.624193  nextbike           6.0   \n",
      "2             16.635706     49.205131      16.624193  nextbike           6.0   \n",
      "3             16.635706     49.205131      16.624193  nextbike           8.0   \n",
      "4             16.635706     49.205131      16.624193  nextbike          17.0   \n",
      "...                 ...           ...            ...       ...           ...   \n",
      "200716        16.601829     49.200183      16.631733    rekola          12.0   \n",
      "200717        16.603950     49.215194      16.599725    rekola          26.0   \n",
      "200718        16.603950     49.215194      16.599725    rekola          25.0   \n",
      "200719        16.594816     49.191381      16.599109    rekola           5.0   \n",
      "200720        16.591640     49.204420      16.603669    rekola          11.0   \n",
      "\n",
      "                   time-key  ... snowfall (cm)  windspeed_10m (km/h)  \\\n",
      "0       2022-05-01 00:00:00  ...           0.0                   8.3   \n",
      "1       2022-05-09 15:00:00  ...           0.0                  12.2   \n",
      "2       2022-05-26 14:00:00  ...           0.0                  19.1   \n",
      "3       2022-07-24 01:00:00  ...           0.0                  10.5   \n",
      "4       2022-09-03 20:00:00  ...           0.0                   6.5   \n",
      "...                     ...  ...           ...                   ...   \n",
      "200716  2023-05-25 02:00:00  ...           0.0                   9.5   \n",
      "200717  2023-05-29 03:00:00  ...           0.0                   8.4   \n",
      "200718  2023-05-29 03:00:00  ...           0.0                   8.4   \n",
      "200719  2023-09-04 04:00:00  ...           0.0                  10.6   \n",
      "200720  2023-09-06 01:00:00  ...           0.0                   6.1   \n",
      "\n",
      "        windgusts_10m (km/h)  is_day ()  start_location  end_location  \\\n",
      "0                       10.8          0            38.0            68   \n",
      "1                       28.8          1            38.0            68   \n",
      "2                       40.7          1            38.0            68   \n",
      "3                       22.0          0            38.0            68   \n",
      "4                       15.8          0            38.0            68   \n",
      "...                      ...        ...             ...           ...   \n",
      "200716                  15.5          0            65.0            43   \n",
      "200717                  15.5          1           249.0           218   \n",
      "200718                  15.5          1           249.0           218   \n",
      "200719                  19.1          0            51.0            46   \n",
      "200720                  10.1          0            77.0           143   \n",
      "\n",
      "                                            start_address  \\\n",
      "0       Lazaretní, Zábrdovice, Brno, okres Brno-město,...   \n",
      "1       Lazaretní, Zábrdovice, Brno, okres Brno-město,...   \n",
      "2       Lazaretní, Zábrdovice, Brno, okres Brno-město,...   \n",
      "3       Lazaretní, Zábrdovice, Brno, okres Brno-město,...   \n",
      "4       Lazaretní, Zábrdovice, Brno, okres Brno-město,...   \n",
      "...                                                   ...   \n",
      "200716  Joštova, Město Brno, Brno, okres Brno-město, J...   \n",
      "200717  Joštova, Město Brno, Brno, okres Brno-město, J...   \n",
      "200718  Joštova, Město Brno, Brno, okres Brno-město, J...   \n",
      "200719  8/40, Gorkého, Veveří, Brno, okres Brno-město,...   \n",
      "200720  1804/7, Slovanské náměstí, Královo Pole, Brno,...   \n",
      "\n",
      "                                              end_address  start_elevation  \\\n",
      "0       Merhautova, Zábrdovice, Brno, okres Brno-město...              206   \n",
      "1       Merhautova, Zábrdovice, Brno, okres Brno-město...              206   \n",
      "2       Merhautova, Zábrdovice, Brno, okres Brno-město...              206   \n",
      "3       Merhautova, Zábrdovice, Brno, okres Brno-město...              206   \n",
      "4       Merhautova, Zábrdovice, Brno, okres Brno-město...              206   \n",
      "...                                                   ...              ...   \n",
      "200716  736/94, Šámalova, Zábrdovice, Brno, okres Brno...              225   \n",
      "200717  124/54, Štefánikova, Ponava, Brno, okres Brno-...              222   \n",
      "200718  124/54, Štefánikova, Ponava, Brno, okres Brno-...              222   \n",
      "200719  Fakultní nemocnice u svaté Anny, Veletržní, Žl...              232   \n",
      "200720  643/19, Cihlářská, Veveří, Brno, okres Brno-mě...              240   \n",
      "\n",
      "       end_elevation  \n",
      "0                217  \n",
      "1                217  \n",
      "2                217  \n",
      "3                217  \n",
      "4                217  \n",
      "...              ...  \n",
      "200716           203  \n",
      "200717           222  \n",
      "200718           222  \n",
      "200719           207  \n",
      "200720           221  \n",
      "\n",
      "[198945 rows x 23 columns]\n"
     ]
    }
   ],
   "source": [
    "dataset_final = dataset_final[(dataset_final[\"start_latitude\"] < 49.263)&(dataset_final[\"end_latitude\"] < 49.263)&(dataset_final[\"start_latitude\"] > 49.116)&(dataset_final[\"end_latitude\"] > 49.116)]\n",
    "\n",
    "dataset_final = dataset_final[(dataset_final[\"start_longitude\"] < 16.720)&(dataset_final[\"end_longitude\"] < 16.720)&(dataset_final[\"start_longitude\"] > 16.485)&(dataset_final[\"end_longitude\"] > 16.485)]\n",
    "\n",
    "print(dataset_final)"
   ]
  },
  {
   "cell_type": "markdown",
   "metadata": {},
   "source": [
    "### přidání elevation difference\n"
   ]
  },
  {
   "cell_type": "code",
   "execution_count": 193,
   "metadata": {},
   "outputs": [],
   "source": [
    "dataset_final[\"elevation_difference\"] = dataset_final[\"end_elevation\"] - dataset_final[\"start_elevation\"]"
   ]
  },
  {
   "cell_type": "code",
   "execution_count": 197,
   "metadata": {},
   "outputs": [],
   "source": [
    "dataset_final[\"start_location\"] = dataset_final[\"start_location\"].astype(int)\n",
    "dataset_final[\"start_elevation\"] = dataset_final[\"start_elevation\"].astype(int)"
   ]
  },
  {
   "cell_type": "code",
   "execution_count": 198,
   "metadata": {},
   "outputs": [],
   "source": [
    "dataset_final.to_csv(\"23-10-29_data_filtered_weather_elevation.csv\", index = False)"
   ]
  },
  {
   "cell_type": "code",
   "execution_count": 199,
   "metadata": {},
   "outputs": [
    {
     "name": "stdout",
     "output_type": "stream",
     "text": [
      "<class 'pandas.core.frame.DataFrame'>\n",
      "Index: 198945 entries, 0 to 200720\n",
      "Data columns (total 24 columns):\n",
      " #   Column                Non-Null Count   Dtype  \n",
      "---  ------                --------------   -----  \n",
      " 0   start_time            198945 non-null  object \n",
      " 1   end_time              198945 non-null  object \n",
      " 2   user_id               198945 non-null  int64  \n",
      " 3   start_latitude        198945 non-null  float64\n",
      " 4   start_longitude       198945 non-null  float64\n",
      " 5   end_latitude          198945 non-null  float64\n",
      " 6   end_longitude         198945 non-null  float64\n",
      " 7   company               198945 non-null  object \n",
      " 8   duration_min          198945 non-null  float64\n",
      " 9   time-key              198945 non-null  object \n",
      " 10  time                  198945 non-null  object \n",
      " 11  temperature_2m (°C)   198945 non-null  float64\n",
      " 12  rain (mm)             198945 non-null  float64\n",
      " 13  snowfall (cm)         198945 non-null  float64\n",
      " 14  windspeed_10m (km/h)  198945 non-null  float64\n",
      " 15  windgusts_10m (km/h)  198945 non-null  float64\n",
      " 16  is_day ()             198945 non-null  int64  \n",
      " 17  start_location        198945 non-null  int64  \n",
      " 18  end_location          198945 non-null  int64  \n",
      " 19  start_address         198945 non-null  object \n",
      " 20  end_address           198945 non-null  object \n",
      " 21  start_elevation       198945 non-null  int64  \n",
      " 22  end_elevation         198945 non-null  int64  \n",
      " 23  elevation_difference  198945 non-null  int64  \n",
      "dtypes: float64(10), int64(7), object(7)\n",
      "memory usage: 37.9+ MB\n"
     ]
    }
   ],
   "source": [
    "dataset_final.info()"
   ]
  }
 ],
 "metadata": {
  "kernelspec": {
   "display_name": "Python 3",
   "language": "python",
   "name": "python3"
  },
  "language_info": {
   "codemirror_mode": {
    "name": "ipython",
    "version": 3
   },
   "file_extension": ".py",
   "mimetype": "text/x-python",
   "name": "python",
   "nbconvert_exporter": "python",
   "pygments_lexer": "ipython3",
   "version": "3.11.5"
  }
 },
 "nbformat": 4,
 "nbformat_minor": 2
}
